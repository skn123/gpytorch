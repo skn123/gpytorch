{
 "cells": [
  {
   "cell_type": "markdown",
   "metadata": {},
   "source": [
    "# GPyTorch regression with derivative information\n",
    "\n",
    "## Introduction\n",
    "In this notebook, we show how to train a GP regression model in GPyTorch of an unknown function given function value and derivative observations. We consider modeling the function:\n",
    "\n",
    "\\begin{align*}\n",
    "              y &= \\sin(2x) + cos(x) + \\epsilon \\\\\n",
    "  \\frac{dy}{dx} &= 2\\cos(2x) - \\sin(x) + \\epsilon \\\\  \n",
    "       \\epsilon &\\sim \\mathcal{N}(0, 0.5)\n",
    "\\end{align*}\n",
    "\n",
    "using 50 value and derivative observations."
   ]
  },
  {
   "cell_type": "code",
   "execution_count": 1,
   "metadata": {},
   "outputs": [],
   "source": [
    "import torch\n",
    "import gpytorch\n",
    "import math\n",
    "from matplotlib import pyplot as plt\n",
    "import numpy as np\n",
    "\n",
    "%matplotlib inline\n",
    "%load_ext autoreload\n",
    "%autoreload 2"
   ]
  },
  {
   "cell_type": "markdown",
   "metadata": {},
   "source": [
    "## Setting up the training data\n",
    "We use 50 uniformly distributed points in the interval $[0, 5 \\pi]$"
   ]
  },
  {
   "cell_type": "code",
   "execution_count": 19,
   "metadata": {},
   "outputs": [],
   "source": [
    "lb, ub = 0.0, 5*math.pi\n",
    "n = 50\n",
    "\n",
    "train_x = torch.linspace(lb, ub, n).unsqueeze(-1)\n",
    "train_y = torch.stack([\n",
    "    torch.sin(2*train_x) + torch.cos(train_x), \n",
    "    -torch.sin(train_x) + 2*torch.cos(2*train_x)\n",
    "], -1).squeeze(1)\n",
    "\n",
    "train_y += 0.05 * torch.randn(n, 2)"
   ]
  },
  {
   "cell_type": "markdown",
   "metadata": {},
   "source": [
    "## Setting up the model\n",
    "A GP prior on the function values implies a multi-output GP prior on the function values and the partial derivatives, see 9.4 in http://www.gaussianprocess.org/gpml/chapters/RW9.pdf for more details. This allows using a `MultitaskMultivariateNormal` and `MultitaskGaussianLikelihood` to train a GP model from both function values and gradients. The resulting RBF kernel that models the covariance between the values and partial derivatives has been implemented in `RBFKernelGrad` and the extension of a constant mean is implemented in `ConstantMeanGrad`.\n",
    "\n",
    "The `RBFKernelGrad` is generally worse conditioned than the `RBFKernel`, so we place a lower bound on the noise parameter to keep the smallest eigenvalues of the kernel matrix away from zero."
   ]
  },
  {
   "cell_type": "code",
   "execution_count": 22,
   "metadata": {},
   "outputs": [],
   "source": [
    "class GPModelWithDerivatives(gpytorch.models.ExactGP):\n",
    "    def __init__(self, train_x, train_y, likelihood):\n",
    "        super(GPModelWithDerivatives, self).__init__(train_x, train_y, likelihood)\n",
    "        self.mean_module = gpytorch.means.ConstantMeanGrad()\n",
    "        self.base_kernel = gpytorch.kernels.PolynomialKernelGrad(power=2)\n",
    "        self.covar_module = gpytorch.kernels.ScaleKernel(self.base_kernel)\n",
    "\n",
    "    def forward(self, x):\n",
    "        mean_x = self.mean_module(x)\n",
    "        covar_x = self.covar_module(x)\n",
    "        return gpytorch.distributions.MultitaskMultivariateNormal(mean_x, covar_x)\n",
    "\n",
    "likelihood = gpytorch.likelihoods.MultitaskGaussianLikelihood(num_tasks=2)  # Value + Derivative\n",
    "model = GPModelWithDerivatives(train_x, train_y, likelihood)"
   ]
  },
  {
   "cell_type": "markdown",
   "metadata": {},
   "source": [
    "## Training the model\n",
    "The model training is similar to training a standard GP regression model"
   ]
  },
  {
   "cell_type": "code",
   "execution_count": 23,
   "metadata": {},
   "outputs": [
    {
     "name": "stdout",
     "output_type": "stream",
     "text": [
      "Iter 1/50 - Loss: 93.724   offset: 0.693   noise: 0.693\n",
      "Iter 2/50 - Loss: 92.825   offset: 0.644   noise: 0.744\n",
      "Iter 3/50 - Loss: 92.090   offset: 0.598   noise: 0.798\n",
      "Iter 4/50 - Loss: 91.469   offset: 0.554   noise: 0.852\n",
      "Iter 5/50 - Loss: 90.969   offset: 0.513   noise: 0.907\n",
      "Iter 6/50 - Loss: 90.599   offset: 0.474   noise: 0.961\n",
      "Iter 7/50 - Loss: 90.282   offset: 0.438   noise: 1.013\n",
      "Iter 8/50 - Loss: 90.035   offset: 0.404   noise: 1.062\n",
      "Iter 9/50 - Loss: 89.839   offset: 0.373   noise: 1.107\n",
      "Iter 10/50 - Loss: 89.683   offset: 0.344   noise: 1.147\n",
      "Iter 11/50 - Loss: 89.550   offset: 0.317   noise: 1.180\n",
      "Iter 12/50 - Loss: 89.449   offset: 0.292   noise: 1.206\n",
      "Iter 13/50 - Loss: 89.356   offset: 0.269   noise: 1.226\n",
      "Iter 14/50 - Loss: 89.259   offset: 0.248   noise: 1.238\n",
      "Iter 15/50 - Loss: 89.167   offset: 0.228   noise: 1.243\n",
      "Iter 16/50 - Loss: 89.065   offset: 0.210   noise: 1.243\n",
      "Iter 17/50 - Loss: 88.967   offset: 0.194   noise: 1.237\n",
      "Iter 18/50 - Loss: 88.869   offset: 0.178   noise: 1.226\n",
      "Iter 19/50 - Loss: 88.776   offset: 0.164   noise: 1.212\n",
      "Iter 20/50 - Loss: 88.686   offset: 0.151   noise: 1.194\n",
      "Iter 21/50 - Loss: 88.599   offset: 0.139   noise: 1.174\n",
      "Iter 22/50 - Loss: 88.512   offset: 0.129   noise: 1.153\n",
      "Iter 23/50 - Loss: 88.433   offset: 0.119   noise: 1.132\n",
      "Iter 24/50 - Loss: 88.361   offset: 0.109   noise: 1.110\n",
      "Iter 25/50 - Loss: 88.299   offset: 0.101   noise: 1.090\n",
      "Iter 26/50 - Loss: 88.242   offset: 0.093   noise: 1.071\n",
      "Iter 27/50 - Loss: 88.192   offset: 0.086   noise: 1.054\n",
      "Iter 28/50 - Loss: 88.142   offset: 0.079   noise: 1.041\n",
      "Iter 29/50 - Loss: 88.098   offset: 0.073   noise: 1.030\n",
      "Iter 30/50 - Loss: 88.058   offset: 0.068   noise: 1.022\n",
      "Iter 31/50 - Loss: 88.012   offset: 0.063   noise: 1.018\n",
      "Iter 32/50 - Loss: 87.968   offset: 0.058   noise: 1.017\n",
      "Iter 33/50 - Loss: 87.922   offset: 0.054   noise: 1.019\n",
      "Iter 34/50 - Loss: 87.876   offset: 0.051   noise: 1.023\n",
      "Iter 35/50 - Loss: 87.832   offset: 0.047   noise: 1.030\n",
      "Iter 36/50 - Loss: 87.789   offset: 0.044   noise: 1.039\n",
      "Iter 37/50 - Loss: 87.746   offset: 0.041   noise: 1.049\n",
      "Iter 38/50 - Loss: 87.707   offset: 0.039   noise: 1.059\n",
      "Iter 39/50 - Loss: 87.672   offset: 0.036   noise: 1.070\n",
      "Iter 40/50 - Loss: 87.639   offset: 0.034   noise: 1.081\n",
      "Iter 41/50 - Loss: 87.608   offset: 0.032   noise: 1.090\n",
      "Iter 42/50 - Loss: 87.580   offset: 0.031   noise: 1.099\n",
      "Iter 43/50 - Loss: 87.553   offset: 0.029   noise: 1.106\n",
      "Iter 44/50 - Loss: 87.526   offset: 0.028   noise: 1.111\n",
      "Iter 45/50 - Loss: 87.500   offset: 0.027   noise: 1.115\n",
      "Iter 46/50 - Loss: 87.475   offset: 0.025   noise: 1.116\n",
      "Iter 47/50 - Loss: 87.449   offset: 0.024   noise: 1.116\n",
      "Iter 48/50 - Loss: 87.424   offset: 0.023   noise: 1.115\n",
      "Iter 49/50 - Loss: 87.399   offset: 0.023   noise: 1.112\n",
      "Iter 50/50 - Loss: 87.375   offset: 0.022   noise: 1.108\n"
     ]
    }
   ],
   "source": [
    "# Find optimal model hyperparameters\n",
    "model.train()\n",
    "likelihood.train()\n",
    "\n",
    "# Use the adam optimizer\n",
    "optimizer = torch.optim.Adam([\n",
    "    {'params': model.parameters()},  # Includes GaussianLikelihood parameters\n",
    "], lr=0.1)\n",
    "\n",
    "# \"Loss\" for GPs - the marginal log likelihood\n",
    "mll = gpytorch.mlls.ExactMarginalLogLikelihood(likelihood, model)\n",
    "\n",
    "n_iter = 50\n",
    "for i in range(n_iter):\n",
    "    optimizer.zero_grad()\n",
    "    output = model(train_x)\n",
    "    loss = -mll(output, train_y)\n",
    "    loss.backward()\n",
    "    print('Iter %d/%d - Loss: %.3f   offset: %.3f   noise: %.3f' % (\n",
    "        i + 1, n_iter, loss.item(),\n",
    "        model.covar_module.base_kernel.offset.item(),\n",
    "        model.likelihood.noise.item()\n",
    "    ))        \n",
    "    optimizer.step()"
   ]
  },
  {
   "cell_type": "markdown",
   "metadata": {},
   "source": [
    "## Making predictions with the model\n",
    "Model predictions are also similar to GP regression with only function values, butwe need more CG iterations to get accurate estimates of the predictive variance"
   ]
  },
  {
   "cell_type": "code",
   "execution_count": 24,
   "metadata": {},
   "outputs": [
    {
     "data": {
      "image/png": "[encoded data removed]",
      "text/plain": [
       "<Figure size 864x432 with 2 Axes>"
      ]
     },
     "metadata": {
      "needs_background": "light"
     },
     "output_type": "display_data"
    }
   ],
   "source": [
    "# Set into eval mode\n",
    "model.train()\n",
    "model.eval()\n",
    "likelihood.eval()\n",
    "\n",
    "# Initialize plots\n",
    "f, (y1_ax, y2_ax) = plt.subplots(1, 2, figsize=(12, 6))\n",
    "\n",
    "# Make predictions\n",
    "with torch.no_grad(), gpytorch.settings.max_cg_iterations(50):\n",
    "    test_x = torch.linspace(lb, ub, 500)\n",
    "    predictions = likelihood(model(test_x))\n",
    "    mean = predictions.mean\n",
    "    lower, upper = predictions.confidence_region()\n",
    "    \n",
    "# Plot training data as black stars\n",
    "y1_ax.plot(train_x.detach().numpy(), train_y[:, 0].detach().numpy(), 'k*')\n",
    "# Predictive mean as blue line\n",
    "y1_ax.plot(test_x.numpy(), mean[:, 0].numpy(), 'b')\n",
    "# Shade in confidence \n",
    "y1_ax.fill_between(test_x.numpy(), lower[:, 0].numpy(), upper[:, 0].numpy(), alpha=0.5)\n",
    "y1_ax.legend(['Observed Values', 'Mean', 'Confidence'])\n",
    "y1_ax.set_title('Function values')\n",
    "\n",
    "# Plot training data as black stars\n",
    "y2_ax.plot(train_x.detach().numpy(), train_y[:, 1].detach().numpy(), 'k*')\n",
    "# Predictive mean as blue line\n",
    "y2_ax.plot(test_x.numpy(), mean[:, 1].numpy(), 'b')\n",
    "# Shade in confidence \n",
    "y2_ax.fill_between(test_x.numpy(), lower[:, 1].numpy(), upper[:, 1].numpy(), alpha=0.5)\n",
    "y2_ax.legend(['Observed Derivatives', 'Mean', 'Confidence'])\n",
    "y2_ax.set_title('Derivatives')\n",
    "\n",
    "None"
   ]
  },
  {
   "cell_type": "code",
   "execution_count": null,
   "metadata": {},
   "outputs": [],
   "source": []
  },
  {
   "cell_type": "code",
   "execution_count": null,
   "metadata": {},
   "outputs": [],
   "source": []
  }
 ],
 "metadata": {
  "kernelspec": {
   "display_name": "Python 3",
   "language": "python",
   "name": "python3"
  },
  "language_info": {
   "codemirror_mode": {
    "name": "ipython",
    "version": 3
   },
   "file_extension": ".py",
   "mimetype": "text/x-python",
   "name": "python",
   "nbconvert_exporter": "python",
   "pygments_lexer": "ipython3",
   "version": "3.7.3"
  }
 },
 "nbformat": 4,
 "nbformat_minor": 2
}
